{
 "cells": [
  {
   "cell_type": "code",
   "execution_count": null,
   "metadata": {},
   "outputs": [],
   "source": [
    "import json\n",
    "import os\n",
    "import re\n",
    "import subprocess\n",
    "import time"
   ]
  },
  {
   "cell_type": "code",
   "execution_count": null,
   "metadata": {},
   "outputs": [],
   "source": [
    "# NOTE: Until SDL is patched in a future version of scrcpy, run `set SDL_AUDIODRIVER=directsound` before running any of these scripts\n",
    "# Commands to run scrcpy with Quest 2 crop. directsound probably not needed\n",
    "# set SDL_AUDIODRIVER=directsound\n",
    "# scrcpy --video-bit-rate=2M --max-fps=24 --crop=1600:900:2017:510"
   ]
  },
  {
   "cell_type": "code",
   "execution_count": null,
   "metadata": {},
   "outputs": [],
   "source": [
    "# TODO: Reconnect all TCPIP_DEVICES, cycle between current scrcpy procs, error logging, proximity sensor toggle\n",
    "\n",
    "\"\"\"\n",
    "Flow:\n",
    "1. User plugs in device via USB\n",
    "2. Clicks a button to activate TCPIP mode\n",
    "3. User authenticates on the device if necessary\n",
    "4. Clicks a button to activate scrcpy, which goes full screen\n",
    "5. Can click a button to disable proximity sensor for the current device\n",
    "6. Can click a button to cycle through devices. Add sleep 3 secs to kill to account for initial loading time\n",
    "7. Can click a button to close scrcpy\n",
    "\n",
    "Other features:\n",
    "1. Can click a button to attempt to reconnect to all previously known devices (stored in a .json)\n",
    "2. Can click a button to disable tcpip on all devices\n",
    "3. Can click a button to disconnect all TCPIP devices\n",
    "\n",
    "Stretch:\n",
    "1. Make it detect USB events automatically and attempt to activate TCPIP on newly connected devices\n",
    "2. Display multiple devices at once\n",
    "3. Spoof internet connection on hotspot\n",
    "\"\"\";"
   ]
  },
  {
   "cell_type": "code",
   "execution_count": null,
   "metadata": {},
   "outputs": [],
   "source": [
    "TCPIP_DEVICES = []\n",
    "CURR_IX = 0\n",
    "SCRCPY_PROC = None"
   ]
  },
  {
   "cell_type": "code",
   "execution_count": null,
   "metadata": {},
   "outputs": [],
   "source": [
    "def get_devices():\n",
    "    q = [\"adb\", \"devices\"]\n",
    "    proc = subprocess.Popen(q, stdin=subprocess.PIPE, stdout=subprocess.PIPE)\n",
    "    stdout, _ = proc.communicate()\n",
    "    stdout = stdout.decode()\n",
    "\n",
    "    devices = stdout.split(\"\\n\")\n",
    "    devices = [s for s in devices if \"\\tdevice\" in s]\n",
    "\n",
    "    devices = [s.split(\"\\t\")[0] for s in devices]\n",
    "\n",
    "    return devices"
   ]
  },
  {
   "cell_type": "code",
   "execution_count": null,
   "metadata": {},
   "outputs": [],
   "source": [
    "def get_connected_devices():\n",
    "    devices = get_devices()\n",
    "    return [s for s in devices if re.match(r\"\\b\\d+(?:\\.\\d+){3}\\b\", s)]"
   ]
  },
  {
   "cell_type": "code",
   "execution_count": null,
   "metadata": {},
   "outputs": [],
   "source": [
    "def get_usb_devices():\n",
    "    devices = get_devices()\n",
    "    return [s for s in devices if s not in get_connected_devices()]"
   ]
  },
  {
   "cell_type": "code",
   "execution_count": null,
   "metadata": {},
   "outputs": [],
   "source": [
    "def get_device_model(device):\n",
    "    q = [\"adb\", \"-s\", device, \"shell\", \"getprop\", \"ro.product.model\"]\n",
    "    proc = subprocess.Popen(q, stdin=subprocess.PIPE, stdout=subprocess.PIPE)\n",
    "    stdout, _ = proc.communicate()\n",
    "    stdout = stdout.decode()\n",
    "\n",
    "    return stdout"
   ]
  },
  {
   "cell_type": "code",
   "execution_count": null,
   "metadata": {},
   "outputs": [],
   "source": [
    "def get_ip(device):\n",
    "    q = [\"adb\", \"-s\", device, \"shell\", \"ifconfig\", \"wlan0\"]\n",
    "    proc = subprocess.Popen(q, stdin=subprocess.PIPE, stdout=subprocess.PIPE)\n",
    "    stdout, _ = proc.communicate()\n",
    "    stdout = stdout.decode()\n",
    "\n",
    "    s = re.findall(r\"inet addr:\\b\\d+(?:\\.\\d+){3}\\b\", stdout)\n",
    "    if len(s) > 0:\n",
    "        s = s[0]\n",
    "        s = s[10:]\n",
    "    else:\n",
    "        s = None\n",
    "\n",
    "    return s"
   ]
  },
  {
   "cell_type": "code",
   "execution_count": null,
   "metadata": {},
   "outputs": [],
   "source": [
    "def activate_tcpip(device):\n",
    "    global TCPIP_DEVICES\n",
    "    ip = get_ip(device)\n",
    "    n = ip.split(\".\")[-1]\n",
    "    port = 5555 + int(n)\n",
    "\n",
    "    q = [\"adb\", \"-s\", device, \"tcpip\", str(port)]\n",
    "    proc = subprocess.Popen(q, stdin=subprocess.PIPE, stdout=subprocess.PIPE)\n",
    "    stdout, stderr = proc.communicate()\n",
    "    print(stdout.decode())\n",
    "\n",
    "    TCPIP_DEVICES.append(ip)"
   ]
  },
  {
   "cell_type": "code",
   "execution_count": null,
   "metadata": {},
   "outputs": [],
   "source": [
    "def connect_tcpip(ip):\n",
    "    n = ip.split(\".\")[-1]\n",
    "    port = 5555 + int(n)\n",
    "\n",
    "    q = [\"adb\", \"connect\", f\"{ip}:{port}\"]\n",
    "    proc = subprocess.Popen(q, stdin=subprocess.PIPE, stdout=subprocess.PIPE)\n",
    "    stdout, stderr = proc.communicate()\n",
    "    print(stdout.decode())"
   ]
  },
  {
   "cell_type": "code",
   "execution_count": null,
   "metadata": {},
   "outputs": [],
   "source": [
    "def disconnect_tcpip(ip):\n",
    "    n = ip.split(\".\")[-1]\n",
    "    port = 5555 + int(n)\n",
    "\n",
    "    q = [\"adb\", \"disconnect\", f\"{ip}:{port}\"]\n",
    "    proc = subprocess.Popen(q, stdin=subprocess.PIPE, stdout=subprocess.PIPE)\n",
    "    stdout, stderr = proc.communicate()\n",
    "    print(stdout.decode())"
   ]
  },
  {
   "cell_type": "code",
   "execution_count": null,
   "metadata": {},
   "outputs": [],
   "source": [
    "def run_scrcpy(\n",
    "    ip, bit_rate=\"2M\", max_fps=24, crop=\"1600:900:2017:510\", full_screen=False\n",
    "):\n",
    "    global SCRCPY_PROC\n",
    "    n = ip.split(\".\")[-1]\n",
    "    port = 5555 + int(n)\n",
    "\n",
    "    env = os.environ.copy()\n",
    "\n",
    "    q = [\"scrcpy\", f\"--tcpip={ip}:{port}\"]\n",
    "\n",
    "    if bit_rate is not None:\n",
    "        q.append(f\"--video-bit-rate={bit_rate}\")\n",
    "    if max_fps is not None:\n",
    "        q.append(f\"--max-fps={str(max_fps)}\")\n",
    "    if crop is not None:\n",
    "        q.append(f\"--crop={crop}\")\n",
    "    if full_screen:\n",
    "        q.append(\"-f\")\n",
    "\n",
    "    SCRCPY_PROC = subprocess.Popen(q, env=env, shell=False)"
   ]
  },
  {
   "cell_type": "code",
   "execution_count": null,
   "metadata": {},
   "outputs": [],
   "source": [
    "def close_scrcpy():\n",
    "    SCRCPY_PROC.kill()"
   ]
  },
  {
   "cell_type": "code",
   "execution_count": null,
   "metadata": {},
   "outputs": [],
   "source": [
    "def disable_proximity_sensor(device):\n",
    "    if get_device_model(device) == \"Quest 2\\r\\n\":\n",
    "        q = [\n",
    "            \"adb\",\n",
    "            \"-s\",\n",
    "            device,\n",
    "            \"shell\",\n",
    "            \"am\",\n",
    "            \"broadcast\",\n",
    "            \"-a\",\n",
    "            \"com.oculus.vrpowermanager.prox_close\",\n",
    "        ]\n",
    "        proc = subprocess.Popen(q, stdin=subprocess.PIPE, stdout=subprocess.PIPE)\n",
    "        stdout, stderr = proc.communicate()\n",
    "        print(stdout.decode())"
   ]
  },
  {
   "cell_type": "code",
   "execution_count": null,
   "metadata": {},
   "outputs": [],
   "source": [
    "def enable_proximity_sensor(device):\n",
    "    if get_device_model(device) == \"Quest 2\\r\\n\":\n",
    "        q = [\n",
    "            \"adb\",\n",
    "            \"-s\",\n",
    "            device,\n",
    "            \"shell\",\n",
    "            \"am\",\n",
    "            \"broadcast\",\n",
    "            \"-a\",\n",
    "            \"com.oculus.vrpowermanager.automation_disable\",\n",
    "        ]\n",
    "        proc = subprocess.Popen(q, stdin=subprocess.PIPE, stdout=subprocess.PIPE)\n",
    "        stdout, stderr = proc.communicate()\n",
    "        print(stdout.decode())"
   ]
  },
  {
   "cell_type": "code",
   "execution_count": null,
   "metadata": {},
   "outputs": [],
   "source": [
    "# devices = get_devices()\n",
    "# device = devices[0]\n",
    "\n",
    "# print(get_devices())\n",
    "\n",
    "# activate_tcpip(device)\n",
    "# time.sleep(3)\n",
    "\n",
    "# ip = get_ip(device)\n",
    "# connect_tcpip(ip)\n",
    "\n",
    "# print(get_devices())\n",
    "\n",
    "# # run_scrcpy(ip, crop=None, full_screen=True)\n",
    "# run_scrcpy(ip)\n",
    "\n",
    "# time.sleep(5)\n",
    "# close_scrcpy()\n",
    "\n",
    "# disconnect_tcpip(ip)\n",
    "\n",
    "# print(get_devices())"
   ]
  },
  {
   "cell_type": "code",
   "execution_count": null,
   "metadata": {},
   "outputs": [],
   "source": [
    "devices = get_usb_devices()\n",
    "\n",
    "for device in devices:\n",
    "    activate_tcpip(device)\n",
    "    time.sleep(3)\n",
    "    ip = get_ip(device)\n",
    "    connect_tcpip(ip)"
   ]
  },
  {
   "cell_type": "code",
   "execution_count": null,
   "metadata": {},
   "outputs": [],
   "source": [
    "devices = get_connected_devices()\n",
    "print(devices)\n",
    "device = devices[0]\n",
    "disable_proximity_sensor(device)\n",
    "time.sleep(3)\n",
    "\n",
    "ip = get_ip(device)\n",
    "\n",
    "if SCRCPY_PROC is not None:\n",
    "    close_scrcpy()\n",
    "\n",
    "run_scrcpy(ip)"
   ]
  },
  {
   "cell_type": "code",
   "execution_count": null,
   "metadata": {},
   "outputs": [],
   "source": [
    "devices = get_connected_devices()\n",
    "\n",
    "device = devices[1]\n",
    "disable_proximity_sensor(device)"
   ]
  },
  {
   "cell_type": "code",
   "execution_count": null,
   "metadata": {},
   "outputs": [],
   "source": [
    "# List all connected devices, including IP connected devices\n",
    "\n",
    "# q = [\"adb\", \"devices\"]\n",
    "# proc = subprocess.Popen(q, stdin=subprocess.PIPE, stdout=subprocess.PIPE)\n",
    "# stdout, stderr = proc.communicate()\n",
    "# print(stdout.decode())"
   ]
  },
  {
   "cell_type": "code",
   "execution_count": null,
   "metadata": {},
   "outputs": [],
   "source": [
    "# # Turn on TCPIP mode for a given device\n",
    "\n",
    "# q = [\"adb\", \"tcpip\", \"5555\"]\n",
    "# proc = subprocess.Popen(q, stdin=subprocess.PIPE, stdout=subprocess.PIPE)\n",
    "# stdout, stderr = proc.communicate()\n",
    "# print(stdout.decode())"
   ]
  },
  {
   "cell_type": "code",
   "execution_count": null,
   "metadata": {},
   "outputs": [],
   "source": [
    "# # If only one device is connected, get its IP address\n",
    "# # If more than one device is connected, use `adb -s <device> shell ifconfig wlan0`\n",
    "\n",
    "# q = [\"adb\", \"shell\", \"ifconfig\", \"wlan0\"]\n",
    "# proc = subprocess.Popen(q, stdin=subprocess.PIPE, stdout=subprocess.PIPE)\n",
    "# stdout, stderr = proc.communicate()\n",
    "# print(stdout.decode())"
   ]
  },
  {
   "cell_type": "code",
   "execution_count": null,
   "metadata": {},
   "outputs": [],
   "source": [
    "# # Connect to the TCPIP device. It should now appear in `adb devices`\n",
    "\n",
    "# q = [\"adb\", \"connect\", \"192.168.137.77:5555\"]\n",
    "# proc = subprocess.Popen(q, stdin=subprocess.PIPE, stdout=subprocess.PIPE)\n",
    "# stdout, stderr = proc.communicate()\n",
    "# print(stdout.decode())"
   ]
  },
  {
   "cell_type": "code",
   "execution_count": null,
   "metadata": {},
   "outputs": [],
   "source": [
    "# Oculus only. Disable/enable the proximity sensor\n",
    "\n",
    "# q = [\"adb\", \"shell\", \"am\", \"broadcast\", \"-a\", \"com.oculus.vrpowermanager.automation_disable\"]\n",
    "# # q = [\"adb\", \"shell\", \"am\", \"broadcast\", \"-a\", \"com.oculus.vrpowermanager.prox_close\"]\n",
    "# proc = subprocess.Popen(q, stdin=subprocess.PIPE, stdout=subprocess.PIPE)\n",
    "# stdout, stderr = proc.communicate()\n",
    "# print(stdout.decode())"
   ]
  },
  {
   "cell_type": "code",
   "execution_count": null,
   "metadata": {},
   "outputs": [],
   "source": [
    "# Run scrcpy\n",
    "\n",
    "# env = os.environ.copy()\n",
    "# q = [\"scrcpy\"]\n",
    "# proc = subprocess.Popen(q, env=env, shell=True, stdin=subprocess.PIPE, stdout=subprocess.PIPE)\n",
    "# stdout, stderr = proc.communicate()\n",
    "# print(stdout.decode())"
   ]
  }
 ],
 "metadata": {
  "kernelspec": {
   "display_name": "scrcpy-utils-68OBp0gS",
   "language": "python",
   "name": "python3"
  },
  "language_info": {
   "codemirror_mode": {
    "name": "ipython",
    "version": 3
   },
   "file_extension": ".py",
   "mimetype": "text/x-python",
   "name": "python",
   "nbconvert_exporter": "python",
   "pygments_lexer": "ipython3",
   "version": "3.11.3"
  },
  "orig_nbformat": 4
 },
 "nbformat": 4,
 "nbformat_minor": 2
}
